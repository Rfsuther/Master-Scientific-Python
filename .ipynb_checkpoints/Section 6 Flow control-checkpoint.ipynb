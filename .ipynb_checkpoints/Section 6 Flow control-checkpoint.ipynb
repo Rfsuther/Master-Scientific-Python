{
 "cells": [
  {
   "cell_type": "code",
   "execution_count": 1,
   "metadata": {},
   "outputs": [],
   "source": [
    "#Excercise\n",
    "\n",
    "import numpy as np\n",
    "\n",
    "array1 = np.array([ 1,2,3]) \n",
    "array2 = np.array([ 1,1,1]) \n",
    "\n",
    "def computeDotProduct(array1,array2):\n",
    "    if isinstance(array1,np.ndarray) and isinstance(array1,np.ndarray):\n",
    "        if len(array1) == len(array2):\n",
    "            return np.sum(np.multiply(array1,array2))\n",
    "        else:\n",
    "            raise Exception(\"arrays must be same length\")\n",
    "            return\n",
    "    else:\n",
    "        raise Exception(\"one of the inputs wasn't an array\")\n",
    "        \n"
   ]
  },
  {
   "cell_type": "code",
   "execution_count": 2,
   "metadata": {},
   "outputs": [
    {
     "name": "stdout",
     "output_type": "stream",
     "text": [
      "4\n",
      "4\n"
     ]
    }
   ],
   "source": [
    "array = np.array([2,1])\n",
    "array3 = np.array([1,2])\n",
    "print(computeDotProduct(array,array3))\n",
    "print(np.dot(array,array3))\n"
   ]
  },
  {
   "cell_type": "code",
   "execution_count": 3,
   "metadata": {},
   "outputs": [
    {
     "name": "stdout",
     "output_type": "stream",
     "text": [
      "[0. 1. 1. 2. 3. 5. 8.]\n"
     ]
    }
   ],
   "source": [
    "#Fibonacci\n",
    "\n",
    "def fibsec(n):\n",
    "    fibOutputArray = np.concatenate((np.array([0,1,1]), np.zeros(n)))\n",
    "\n",
    "    for i in range(n):\n",
    "        fibOutputArray[i+3]= fibOutputArray[i+2]+fibOutputArray[i+1]\n",
    "    return fibOutputArray\n",
    "print(fibsec(4))"
   ]
  },
  {
   "cell_type": "code",
   "execution_count": 4,
   "metadata": {},
   "outputs": [
    {
     "data": {
      "text/plain": [
       "7"
      ]
     },
     "execution_count": 4,
     "metadata": {},
     "output_type": "execute_result"
    }
   ],
   "source": [
    "#while loop Poission-like counter\n",
    "def poissonCounter(myLambda):\n",
    "    currentVal=1\n",
    "    iterCount=0\n",
    "    while(currentVal>np.exp(-myLambda)):\n",
    "        currentVal = (currentVal)*np.random.rand()\n",
    "        iterCount+=1\n",
    "    return iterCount\n",
    "        \n",
    "poissonCounter(10)"
   ]
  },
  {
   "cell_type": "code",
   "execution_count": 8,
   "metadata": {},
   "outputs": [
    {
     "name": "stdout",
     "output_type": "stream",
     "text": [
      "  method1= 0.0043666000000257554  method2= 0.08854519999999866  method3= 0.005722100000014052\n"
     ]
    }
   ],
   "source": [
    "import time\n",
    "\n",
    "#timing exersice\n",
    "\n",
    "N = 10000 \n",
    "ticMethod1 = time.perf_counter();\n",
    "array1 = []\n",
    "for i in range(N):\n",
    "    array1.append(i**2)\n",
    "tocMethod1 = time.perf_counter();\n",
    "\n",
    "ticMethod2 = time.perf_counter();\n",
    "array2 = np.array([])\n",
    "for i in range(N):\n",
    "    np.append(array2,[i**2])\n",
    "tocMethod2 = time.perf_counter();\n",
    "\n",
    "ticMethod3 = time.perf_counter();\n",
    "array3 = np.zeros(N)\n",
    "for i in range(N):\n",
    "    array3[i] = i**2\n",
    "tocMethod3 = time.perf_counter();\n",
    "\n",
    "\n",
    "print(\"  method1= \"+str(tocMethod1-ticMethod1)+\n",
    "      \"  method2= \"+str(tocMethod2-ticMethod2)+\n",
    "      \"  method3= \"+str(tocMethod3-ticMethod3))"
   ]
  },
  {
   "cell_type": "code",
   "execution_count": 34,
   "metadata": {},
   "outputs": [
    {
     "ename": "ValueError",
     "evalue": "could not convert string to float: 'a'",
     "output_type": "error",
     "traceback": [
      "\u001b[1;31m---------------------------------------------------------------------------\u001b[0m",
      "\u001b[1;31mValueError\u001b[0m                                Traceback (most recent call last)",
      "\u001b[1;32m<ipython-input-34-3be199c3436a>\u001b[0m in \u001b[0;36m<module>\u001b[1;34m\u001b[0m\n\u001b[0;32m     10\u001b[0m         \u001b[1;32mraise\u001b[0m \u001b[0mException\u001b[0m\u001b[1;33m(\u001b[0m\u001b[1;34m'input must be numeric or can be cast easily to floats'\u001b[0m\u001b[1;33m)\u001b[0m\u001b[1;33m\u001b[0m\u001b[1;33m\u001b[0m\u001b[0m\n\u001b[0;32m     11\u001b[0m     \u001b[1;32mreturn\u001b[0m \u001b[0mfloat\u001b[0m\u001b[1;33m(\u001b[0m\u001b[0mx\u001b[0m\u001b[1;33m)\u001b[0m\u001b[1;33m**\u001b[0m\u001b[0mfloat\u001b[0m\u001b[1;33m(\u001b[0m\u001b[0my\u001b[0m\u001b[1;33m)\u001b[0m\u001b[1;33m\u001b[0m\u001b[1;33m\u001b[0m\u001b[0m\n\u001b[1;32m---> 12\u001b[1;33m \u001b[0mprint\u001b[0m\u001b[1;33m(\u001b[0m\u001b[0mfunfun\u001b[0m\u001b[1;33m(\u001b[0m\u001b[1;34m'a'\u001b[0m\u001b[1;33m,\u001b[0m\u001b[1;36m2\u001b[0m\u001b[1;33m)\u001b[0m\u001b[1;33m)\u001b[0m\u001b[1;33m\u001b[0m\u001b[1;33m\u001b[0m\u001b[0m\n\u001b[0m",
      "\u001b[1;32m<ipython-input-34-3be199c3436a>\u001b[0m in \u001b[0;36mfunfun\u001b[1;34m(x, y)\u001b[0m\n\u001b[0;32m      5\u001b[0m     \u001b[1;32mif\u001b[0m  \u001b[0misinstance\u001b[0m\u001b[1;33m(\u001b[0m\u001b[0mx\u001b[0m\u001b[1;33m,\u001b[0m\u001b[1;33m(\u001b[0m\u001b[0mint\u001b[0m\u001b[1;33m,\u001b[0m\u001b[0mfloat\u001b[0m\u001b[1;33m)\u001b[0m\u001b[1;33m)\u001b[0m \u001b[1;32mand\u001b[0m \u001b[0misinstance\u001b[0m\u001b[1;33m(\u001b[0m\u001b[0my\u001b[0m\u001b[1;33m,\u001b[0m\u001b[1;33m(\u001b[0m\u001b[0mint\u001b[0m\u001b[1;33m,\u001b[0m\u001b[0mfloat\u001b[0m\u001b[1;33m)\u001b[0m\u001b[1;33m)\u001b[0m\u001b[1;33m:\u001b[0m\u001b[1;33m\u001b[0m\u001b[1;33m\u001b[0m\u001b[0m\n\u001b[0;32m      6\u001b[0m         \u001b[1;32mpass\u001b[0m\u001b[1;33m\u001b[0m\u001b[1;33m\u001b[0m\u001b[0m\n\u001b[1;32m----> 7\u001b[1;33m     \u001b[1;32melif\u001b[0m \u001b[1;33m(\u001b[0m\u001b[0misinstance\u001b[0m\u001b[1;33m(\u001b[0m\u001b[0mfloat\u001b[0m\u001b[1;33m(\u001b[0m\u001b[0mx\u001b[0m\u001b[1;33m)\u001b[0m\u001b[1;33m,\u001b[0m\u001b[0mfloat\u001b[0m\u001b[1;33m)\u001b[0m\u001b[1;33m)\u001b[0m \u001b[1;32mand\u001b[0m \u001b[1;33m(\u001b[0m\u001b[0misinstance\u001b[0m\u001b[1;33m(\u001b[0m\u001b[0mfloat\u001b[0m\u001b[1;33m(\u001b[0m\u001b[0my\u001b[0m\u001b[1;33m)\u001b[0m\u001b[1;33m,\u001b[0m\u001b[0mfloat\u001b[0m\u001b[1;33m)\u001b[0m\u001b[1;33m)\u001b[0m\u001b[1;33m:\u001b[0m\u001b[1;33m\u001b[0m\u001b[1;33m\u001b[0m\u001b[0m\n\u001b[0m\u001b[0;32m      8\u001b[0m         \u001b[1;32mpass\u001b[0m\u001b[1;33m\u001b[0m\u001b[1;33m\u001b[0m\u001b[0m\n\u001b[0;32m      9\u001b[0m     \u001b[1;32melse\u001b[0m\u001b[1;33m:\u001b[0m\u001b[1;33m\u001b[0m\u001b[1;33m\u001b[0m\u001b[0m\n",
      "\u001b[1;31mValueError\u001b[0m: could not convert string to float: 'a'"
     ]
    }
   ],
   "source": [
    "#error handelling function\n",
    "\n",
    "def funfun(x,y):\n",
    "    #check if inputs are numeric or can be cast easily to floats\n",
    "    if  isinstance(x,(int,float)) and isinstance(y,(int,float)):\n",
    "        pass\n",
    "    elif (isinstance(float(x),float)) and (isinstance(float(y),float)):\n",
    "        pass        \n",
    "    return float(x)**float(y)\n",
    "print(funfun('a',2))"
   ]
  },
  {
   "cell_type": "code",
   "execution_count": 64,
   "metadata": {},
   "outputs": [
    {
     "name": "stdout",
     "output_type": "stream",
     "text": [
      "[[0 1 2]\n",
      " [3 4 5]\n",
      " [6 7 8]]\n"
     ]
    },
    {
     "data": {
      "text/plain": [
       "array([[ 0,  0,  0],\n",
       "       [ 0,  1,  2],\n",
       "       [ 0,  2,  4],\n",
       "       [ 9, 12, 15],\n",
       "       [12, 16, 20],\n",
       "       [15, 20, 25],\n",
       "       [36, 42, 48],\n",
       "       [42, 49, 56],\n",
       "       [48, 56, 64]])"
      ]
     },
     "execution_count": 64,
     "metadata": {},
     "output_type": "execute_result"
    }
   ],
   "source": [
    "##braodcasting\n",
    "import numpy as np\n",
    "import copy\n",
    "a = np.array(range(9))\n",
    "b = np.reshape(a,(3,-1))\n",
    "c = np.repeat(b,3,axis=0)\n",
    "d = c*np.reshape(a,(len(a),1))"
   ]
  }
 ],
 "metadata": {
  "kernelspec": {
   "display_name": "Python 3",
   "language": "python",
   "name": "python3"
  },
  "language_info": {
   "codemirror_mode": {
    "name": "ipython",
    "version": 3
   },
   "file_extension": ".py",
   "mimetype": "text/x-python",
   "name": "python",
   "nbconvert_exporter": "python",
   "pygments_lexer": "ipython3",
   "version": "3.7.6"
  }
 },
 "nbformat": 4,
 "nbformat_minor": 4
}
