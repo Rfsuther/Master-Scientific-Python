{
 "cells": [
  {
   "cell_type": "code",
   "execution_count": 8,
   "metadata": {},
   "outputs": [
    {
     "name": "stdout",
     "output_type": "stream",
     "text": [
      "4\n"
     ]
    },
    {
     "data": {
      "text/plain": [
       "3"
      ]
     },
     "execution_count": 8,
     "metadata": {},
     "output_type": "execute_result"
    }
   ],
   "source": [
    "a = 4\n",
    "b = 3\n",
    "c = 2\n",
    "print(a)\n",
    "b"
   ]
  },
  {
   "cell_type": "code",
   "execution_count": 14,
   "metadata": {},
   "outputs": [
    {
     "name": "stdout",
     "output_type": "stream",
     "text": [
      "this is a print statement for a string\n"
     ]
    }
   ],
   "source": [
    "# this is a comment line\n",
    "print(\"this is a print statement for a string\")"
   ]
  },
  {
   "cell_type": "code",
   "execution_count": 15,
   "metadata": {},
   "outputs": [
    {
     "name": "stdout",
     "output_type": "stream",
     "text": [
      "Hello mikes's favorite color is purple\n"
     ]
    }
   ],
   "source": [
    "d = 'Hello'\n",
    "e = \"mikes's favorite color is purple\"\n",
    "print(d,e)"
   ]
  },
  {
   "cell_type": "code",
   "execution_count": 17,
   "metadata": {},
   "outputs": [
    {
     "name": "stdout",
     "output_type": "stream",
     "text": [
      "Variable   Type    Data/Info\n",
      "----------------------------\n",
      "a          int     4\n",
      "b          int     3\n",
      "c          int     2\n",
      "d          str     Hello\n",
      "e          str     mikes's favorite color is purple\n"
     ]
    }
   ],
   "source": [
    "%whos"
   ]
  },
  {
   "cell_type": "code",
   "execution_count": 23,
   "metadata": {},
   "outputs": [
    {
     "name": "stdout",
     "output_type": "stream",
     "text": [
      "1\n",
      "bad\n"
     ]
    }
   ],
   "source": [
    "a =1\n",
    "print(a)\n",
    "a = 'bad'\n",
    "print(a)"
   ]
  },
  {
   "cell_type": "code",
   "execution_count": 24,
   "metadata": {},
   "outputs": [
    {
     "data": {
      "text/plain": [
       "3.0"
      ]
     },
     "execution_count": 24,
     "metadata": {},
     "output_type": "execute_result"
    }
   ],
   "source": [
    "9**(1/2)"
   ]
  },
  {
   "cell_type": "code",
   "execution_count": 31,
   "metadata": {},
   "outputs": [
    {
     "name": "stdout",
     "output_type": "stream",
     "text": [
      "Mike Cohen\n",
      "MikeMikeMikeMike\n"
     ]
    }
   ],
   "source": [
    "firstName = 'Mike'\n",
    "lastName  = 'Cohen'\n",
    "print(firstName + ' ' + lastName)\n",
    "print(firstName*4)"
   ]
  },
  {
   "cell_type": "code",
   "execution_count": 32,
   "metadata": {
    "scrolled": false
   },
   "outputs": [
    {
     "name": "stdout",
     "output_type": "stream",
     "text": [
      "Feed me a stray catok\n",
      "<class 'str'>\n"
     ]
    },
    {
     "data": {
      "text/plain": [
       "'ok'"
      ]
     },
     "execution_count": 32,
     "metadata": {},
     "output_type": "execute_result"
    }
   ],
   "source": [
    "ans  = input('Feed me a stray cat')\n",
    "\n",
    "print(type(ans))\n",
    "ans\n"
   ]
  },
  {
   "cell_type": "code",
   "execution_count": 35,
   "metadata": {
    "scrolled": true
   },
   "outputs": [
    {
     "data": {
      "text/plain": [
       "'bad'"
      ]
     },
     "execution_count": 35,
     "metadata": {},
     "output_type": "execute_result"
    }
   ],
   "source": [
    "adf = 2\n"
   ]
  },
  {
   "cell_type": "code",
   "execution_count": 46,
   "metadata": {},
   "outputs": [
    {
     "name": "stdout",
     "output_type": "stream",
     "text": [
      "9\n"
     ]
    },
    {
     "data": {
      "text/plain": [
       "[2,\n",
       " 5,\n",
       " 456,\n",
       " 64,\n",
       " 2,\n",
       " 421,\n",
       " 2,\n",
       " 21,\n",
       " 217,\n",
       " 7,\n",
       " 7,\n",
       " 7,\n",
       " 7,\n",
       " 7,\n",
       " 7,\n",
       " 7,\n",
       " 7,\n",
       " 7787354,\n",
       " 54,\n",
       " 656554,\n",
       " 7.0,\n",
       " '7',\n",
       " 3]"
      ]
     },
     "execution_count": 46,
     "metadata": {},
     "output_type": "execute_result"
    }
   ],
   "source": [
    "#print the number of 7s in a list\n",
    "newList= [2, 5, 456, 64, 2, 421, 2, 21, 217, 7, 7, 7 ,7 ,7 ,7,7, 7, 7787354, 54, 656554,7.0,\"7\" ]\n",
    "print(newList.count(7))\n",
    "newList.append(3)\n",
    "newList"
   ]
  },
  {
   "cell_type": "code",
   "execution_count": 55,
   "metadata": {},
   "outputs": [
    {
     "name": "stdout",
     "output_type": "stream",
     "text": [
      "<class 'tuple'>\n"
     ]
    }
   ],
   "source": [
    "#tuples\n",
    "\n",
    "aTuple = (3,'4',3)\n",
    "\n",
    "aTuple*3\n",
    "\n",
    "aTuple.count(3)\n",
    "\n",
    "anotherTuple =tuple([1,3, 4 ])\n",
    "print(type(anotherTuple))"
   ]
  },
  {
   "cell_type": "code",
   "execution_count": 71,
   "metadata": {},
   "outputs": [
    {
     "name": "stdout",
     "output_type": "stream",
     "text": [
      "Please enter first number of triplet1\n",
      "Please enter second number of triplet2\n",
      "Please enter third number of triplet3\n",
      "Your answer is False !!\n"
     ]
    }
   ],
   "source": [
    "#Pythagorean triplets\n",
    "\n",
    "#input three lengths\n",
    "aPythg = float(input('Please enter first number of triplet'))\n",
    "bPythg = float(input('Please enter second number of triplet'))\n",
    "cPythg = float(input('Please enter third number of triplet'))\n",
    "\n",
    "#check for accuracy\n",
    "isTriple = ((aPythg**2+bPythg**2) == cPythg**2) and (aPythg>0 and bPythg>0 and cPythg>0)\n",
    "    #print result\n",
    "print('Your answer is '+str(isTriple)+' !!')"
   ]
  },
  {
   "cell_type": "code",
   "execution_count": 76,
   "metadata": {},
   "outputs": [
    {
     "name": "stdout",
     "output_type": "stream",
     "text": [
      "dict_keys(['name', 'AgeRange'])\n",
      "dict_values(['mike', [20, 50]])\n",
      "dict_items([('name', 'mike'), ('AgeRange', [20, 50])])\n"
     ]
    }
   ],
   "source": [
    "#Dictonaries\n",
    "D = dict()\n",
    "D['name'] = 'mike'\n",
    "D['AgeRange'] = [20,50]\n",
    "\n",
    "D == {'name':'mike', 'AgeRange':[20,50]}\n",
    "print(D.keys())\n",
    "print(D.values())\n",
    "print(D.items())"
   ]
  },
  {
   "cell_type": "code",
   "execution_count": 81,
   "metadata": {},
   "outputs": [
    {
     "name": "stdout",
     "output_type": "stream",
     "text": [
      "Enter a number2\n",
      "Enter a number3\n"
     ]
    },
    {
     "data": {
      "text/plain": [
       "dict_items([('FirstNum', 2), ('SecondNum', 3), ('product', 6)])"
      ]
     },
     "execution_count": 81,
     "metadata": {},
     "output_type": "execute_result"
    }
   ],
   "source": [
    "#Excercise\n",
    "\n",
    "number1 = int(input('Enter a number'))\n",
    "number2 = int(input('Enter a number'))\n",
    "\n",
    "myDict = {'FirstNum':number1,'SecondNum':number2,'product':number1*number2}\n",
    "\n",
    "myDict.items()\n",
    "\n",
    "\n"
   ]
  }
 ],
 "metadata": {
  "kernelspec": {
   "display_name": "Python 3",
   "language": "python",
   "name": "python3"
  },
  "language_info": {
   "codemirror_mode": {
    "name": "ipython",
    "version": 3
   },
   "file_extension": ".py",
   "mimetype": "text/x-python",
   "name": "python",
   "nbconvert_exporter": "python",
   "pygments_lexer": "ipython3",
   "version": "3.8.3"
  }
 },
 "nbformat": 4,
 "nbformat_minor": 4
}
