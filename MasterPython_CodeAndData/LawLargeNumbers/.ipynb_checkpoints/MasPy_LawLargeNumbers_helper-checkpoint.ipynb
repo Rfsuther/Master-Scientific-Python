{
 "cells": [
  {
   "cell_type": "markdown",
   "metadata": {
    "colab_type": "text",
    "id": "0QAj_wHTEJg4"
   },
   "source": [
    "# COURSE: Master Python for scientific programming by solving projects\n",
    "## PROJECT: The Law of Large Numbers\n",
    "#### TEACHER: Mike X Cohen, sincxpress.com\n",
    "##### COURSE URL: udemy.com/course/maspy_x/?couponCode=202201"
   ]
  },
  {
   "cell_type": "code",
   "execution_count": null,
   "metadata": {
    "colab": {},
    "colab_type": "code",
    "id": "H0edLvGwa8mj"
   },
   "outputs": [],
   "source": [
    "# load modules\n",
    "import numpy as np\n",
    "import matplotlib.pyplot as plt"
   ]
  },
  {
   "cell_type": "markdown",
   "metadata": {
    "colab_type": "text",
    "id": "8OigqsotESYl"
   },
   "source": [
    "# Generate a population of random numbers"
   ]
  },
  {
   "cell_type": "code",
   "execution_count": null,
   "metadata": {
    "colab": {},
    "colab_type": "code",
    "id": "Xq0Z9EwabTo5"
   },
   "outputs": [],
   "source": [
    "# simulation parameters\n",
    "\n",
    "population_size = 2.3e5\n",
    "\n",
    "# 50 samples of 500 each\n",
    "sample_size \n",
    "number_of_samples "
   ]
  },
  {
   "cell_type": "code",
   "execution_count": null,
   "metadata": {
    "colab": {},
    "colab_type": "code",
    "id": "praK2SPomiiJ"
   },
   "outputs": [],
   "source": [
    "# generate population distribution\n",
    "\n",
    "# a population of numbers that decreases with increasing value\n",
    "population = \n",
    "\n",
    "# compute the true population mean\n",
    "trueMean = \n",
    "\n",
    "# plot the data\n"
   ]
  },
  {
   "cell_type": "code",
   "execution_count": null,
   "metadata": {
    "colab": {},
    "colab_type": "code",
    "id": "NqQuczHpb2NZ"
   },
   "outputs": [],
   "source": [
    "# shuffle the data values\n"
   ]
  },
  {
   "cell_type": "markdown",
   "metadata": {
    "colab_type": "text",
    "id": "Teg57tygErON"
   },
   "source": [
    "# Monte Carlo sampling"
   ]
  },
  {
   "cell_type": "code",
   "execution_count": null,
   "metadata": {
    "colab": {},
    "colab_type": "code",
    "id": "A_FLQVhOb9RZ"
   },
   "outputs": [],
   "source": [
    "# generate one random sample from the population\n",
    "\n",
    "np.random.choice"
   ]
  },
  {
   "cell_type": "code",
   "execution_count": null,
   "metadata": {
    "colab": {},
    "colab_type": "code",
    "id": "Lw_HOLvZcOEI"
   },
   "outputs": [],
   "source": [
    "# Monte Carlo sampling for sample means\n",
    "\n",
    "samplemeans = \n",
    "\n",
    "for expi in range(number_of_samples):\n",
    "  "
   ]
  },
  {
   "cell_type": "code",
   "execution_count": null,
   "metadata": {
    "colab": {},
    "colab_type": "code",
    "id": "62AGCePmc2_I"
   },
   "outputs": [],
   "source": [
    "# plot the sample means, and a line showing the true mean\n",
    "plt.legend()\n",
    "plt.xlabel('Sample number')\n",
    "plt.ylabel('Mean value')\n",
    "plt.show()"
   ]
  },
  {
   "cell_type": "markdown",
   "metadata": {
    "colab_type": "text",
    "id": "XOvaAEZRE2zE"
   },
   "source": [
    "# Cumulative averaging"
   ]
  },
  {
   "cell_type": "code",
   "execution_count": null,
   "metadata": {
    "colab": {},
    "colab_type": "code",
    "id": "q8SG9Nc0qyON"
   },
   "outputs": [],
   "source": [
    "# Cumulative averaging\n",
    "# the ith value in vector cumave is the mean of all previous points\n",
    "# do this first in a loop\n",
    "\n",
    "\n",
    "# then try to get the same result without a loop!\n",
    "cumave2 = \n",
    "\n",
    "# plot the results, along with a horizontal line showing the true mean\n",
    "plt.xlabel('Sample number')\n",
    "plt.ylabel('Mean value')\n",
    "\n",
    "plt.legend()\n",
    "plt.show()"
   ]
  },
  {
   "cell_type": "code",
   "execution_count": null,
   "metadata": {
    "colab": {},
    "colab_type": "code",
    "id": "gx-lhVbBdN2m"
   },
   "outputs": [],
   "source": [
    "# compute the squared divergence from the true mean, \n",
    "# repeated over 100 iterations\n",
    "\n",
    "\n",
    "# plot them all\n",
    "plt.xlabel('Sample number')\n",
    "plt.ylabel('Squared divergence from true mean')\n",
    "plt.show()\n"
   ]
  },
  {
   "cell_type": "markdown",
   "metadata": {
    "colab_type": "text",
    "id": "tqR_fTXQwJQi"
   },
   "source": [
    "# Bonus: The Central Limit Theorem"
   ]
  },
  {
   "cell_type": "code",
   "execution_count": null,
   "metadata": {
    "colab": {},
    "colab_type": "code",
    "id": "EiMF3lDpwfUQ"
   },
   "outputs": [],
   "source": [
    "# create a histogram of one distribution of sample means\n",
    "\n",
    "\n",
    "# then show the histogram lines for all 100 iterations of sample means\n",
    "\n"
   ]
  }
 ],
 "metadata": {
  "colab": {
   "authorship_tag": "ABX9TyMvOZUEkl2/GfMD1B/Gmb71",
   "collapsed_sections": [],
   "name": "MasPy_LawLargeNumbers_helper.ipynb",
   "provenance": [
    {
     "file_id": "1Nvj_6xN-PkFP8cuyhnilKnBkbUrjRK2A",
     "timestamp": 1595482459197
    }
   ]
  },
  "kernelspec": {
   "display_name": "Python 3",
   "language": "python",
   "name": "python3"
  },
  "language_info": {
   "codemirror_mode": {
    "name": "ipython",
    "version": 3
   },
   "file_extension": ".py",
   "mimetype": "text/x-python",
   "name": "python",
   "nbconvert_exporter": "python",
   "pygments_lexer": "ipython3",
   "version": "3.7.6"
  }
 },
 "nbformat": 4,
 "nbformat_minor": 1
}
